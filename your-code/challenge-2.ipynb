{
 "cells": [
  {
   "cell_type": "markdown",
   "metadata": {},
   "source": [
    "## Challenge 2: Sets\n",
    "\n",
    "There are a lot to learn about Python Sets and the information presented in the lesson is limited due to its length. To learn Python Sets in depth you are strongly encouraged to review the W3Schools tutorial on [Python Sets Examples and Methods](https://www.w3schools.com/python/python_sets.asp) before you work on this lab. Some difficult questions in this lab have their solutions in the W3Schools tutorial.\n",
    "\n",
    "#### First, import the Python `random` libary"
   ]
  },
  {
   "cell_type": "code",
   "execution_count": 44,
   "metadata": {},
   "outputs": [],
   "source": [
    "import random"
   ]
  },
  {
   "cell_type": "markdown",
   "metadata": {},
   "source": [
    "#### In the cell below, create a list named `sample_list_1` with 80 random values. \n",
    "\n",
    "Requirements:\n",
    "\n",
    "* Each value is an integer falling between 0 and 100.\n",
    "* Each value in the list is unique.\n",
    "\n",
    "Print `sample_list_1` to review its values\n",
    "\n",
    "*Hint: use `random.sample` ([reference](https://docs.python.org/3/library/random.html#random.sample)).*"
   ]
  },
  {
   "cell_type": "code",
   "execution_count": 45,
   "metadata": {},
   "outputs": [
    {
     "name": "stdout",
     "output_type": "stream",
     "text": [
      "[49, 11, 26, 73, 28, 2, 43, 1, 85, 62, 77, 50, 38, 86, 31, 61, 24, 46, 8, 42, 97, 20, 81, 9, 90, 12, 30, 14, 25, 48, 10, 70, 58, 76, 79, 65, 83, 7, 53, 91, 17, 51, 34, 55, 68, 29, 15, 37, 35, 3, 96, 100, 93, 6, 57, 27, 72, 99, 84, 54, 47, 22, 21, 67, 66, 64, 82, 44, 95, 36, 94, 52, 63, 32, 89, 74, 60, 0, 45, 33]\n"
     ]
    },
    {
     "data": {
      "text/plain": [
       "80"
      ]
     },
     "execution_count": 45,
     "metadata": {},
     "output_type": "execute_result"
    }
   ],
   "source": [
    "# Your code here\n",
    "sample_list_1=random.sample(range(0,101),80)\n",
    "print(sample_list_1)\n",
    "len(sample_list_1)"
   ]
  },
  {
   "cell_type": "markdown",
   "metadata": {},
   "source": [
    "#### Convert `sample_list_1` to a set called `set1`. Print the length of the set. Is its length still 80?"
   ]
  },
  {
   "cell_type": "code",
   "execution_count": 46,
   "metadata": {},
   "outputs": [
    {
     "data": {
      "text/plain": [
       "80"
      ]
     },
     "execution_count": 46,
     "metadata": {},
     "output_type": "execute_result"
    }
   ],
   "source": [
    "# Your code here\n",
    "set1= set(sample_list_1)\n",
    "len(set1)"
   ]
  },
  {
   "cell_type": "code",
   "execution_count": 47,
   "metadata": {},
   "outputs": [],
   "source": [
    "#Tiene sentido que siga siendo el mismo porque los datos erán unicos y un set solo trata con datos unicos"
   ]
  },
  {
   "cell_type": "markdown",
   "metadata": {},
   "source": [
    "#### Create another list named `sample_list_2` with 80 random values.\n",
    "\n",
    "Requirements:\n",
    "\n",
    "* Each value is an integer falling between 0 and 100.\n",
    "* The values in the list don't have to be unique.\n",
    "\n",
    "*Hint: Use a FOR loop.*"
   ]
  },
  {
   "cell_type": "code",
   "execution_count": 48,
   "metadata": {},
   "outputs": [
    {
     "name": "stdout",
     "output_type": "stream",
     "text": [
      "[83, 23, 5, 97, 10, 62, 65, 63, 81, 51, 80, 85, 20, 94, 30, 38, 13, 83, 97, 24, 2, 2, 66, 82, 35, 8, 47, 69, 85, 97, 63, 90, 52, 72, 60, 92, 38, 44, 75, 97, 48, 49, 26, 42, 51, 6, 22, 70, 76, 95, 32, 94, 4, 1, 16, 89, 4, 74, 33, 53, 35, 80, 54, 15, 77, 72, 51, 33, 67, 73, 82, 81, 45, 93, 88, 87, 44, 56, 17, 91]\n"
     ]
    },
    {
     "data": {
      "text/plain": [
       "80"
      ]
     },
     "execution_count": 48,
     "metadata": {},
     "output_type": "execute_result"
    }
   ],
   "source": [
    "# Your code here\n",
    "#Notas para mi: me sale una lista muy grande pero yo solo quiero el primero y[0]\n",
    "sample_list_2=[]\n",
    "for x in range(80):\n",
    "    y=random.sample(range(101),80)\n",
    "    sample_list_2.append(y[0])\n",
    "print(sample_list_2)\n",
    "len(sample_list_2)"
   ]
  },
  {
   "cell_type": "markdown",
   "metadata": {},
   "source": [
    "#### Convert `sample_list_2` to a set called `set2`. Print the length of the set. Is its length still 80?"
   ]
  },
  {
   "cell_type": "code",
   "execution_count": 49,
   "metadata": {},
   "outputs": [
    {
     "name": "stdout",
     "output_type": "stream",
     "text": [
      "{1, 2, 4, 5, 6, 8, 10, 13, 15, 16, 17, 20, 22, 23, 24, 26, 30, 32, 33, 35, 38, 42, 44, 45, 47, 48, 49, 51, 52, 53, 54, 56, 60, 62, 63, 65, 66, 67, 69, 70, 72, 73, 74, 75, 76, 77, 80, 81, 82, 83, 85, 87, 88, 89, 90, 91, 92, 93, 94, 95, 97}\n"
     ]
    },
    {
     "data": {
      "text/plain": [
       "61"
      ]
     },
     "execution_count": 49,
     "metadata": {},
     "output_type": "execute_result"
    }
   ],
   "source": [
    "# Your code here\n",
    "set2=set(sample_list_2)\n",
    "print(set2)\n",
    "len(set2)"
   ]
  },
  {
   "cell_type": "code",
   "execution_count": 50,
   "metadata": {},
   "outputs": [],
   "source": [
    "#Al no tener la condición de que sean unicos al hacerlos set se eliminian los que esten repetidos"
   ]
  },
  {
   "cell_type": "markdown",
   "metadata": {},
   "source": [
    "#### Identify the elements present in `set1` but not in `set2`. Assign the elements to a new set named `set3`."
   ]
  },
  {
   "cell_type": "code",
   "execution_count": 66,
   "metadata": {},
   "outputs": [
    {
     "name": "stdout",
     "output_type": "stream",
     "text": [
      "{3}\n",
      "{3, 7}\n",
      "{9, 3, 7}\n",
      "{11, 9, 3, 7}\n",
      "{3, 7, 9, 11, 12}\n",
      "{3, 7, 9, 11, 12, 14}\n",
      "{3, 7, 9, 11, 12, 14, 21}\n",
      "{3, 7, 9, 11, 12, 14, 21, 25}\n",
      "{3, 7, 9, 11, 12, 14, 21, 25, 27}\n",
      "{3, 7, 9, 11, 12, 14, 21, 25, 27, 28}\n",
      "{3, 7, 9, 11, 12, 14, 21, 25, 27, 28, 29}\n",
      "{3, 7, 9, 11, 12, 14, 21, 25, 27, 28, 29, 31}\n",
      "{34, 3, 7, 9, 11, 12, 14, 21, 25, 27, 28, 29, 31}\n",
      "{34, 3, 36, 7, 9, 11, 12, 14, 21, 25, 27, 28, 29, 31}\n",
      "{34, 3, 36, 37, 7, 9, 11, 12, 14, 21, 25, 27, 28, 29, 31}\n",
      "{34, 3, 36, 37, 7, 9, 11, 12, 43, 14, 21, 25, 27, 28, 29, 31}\n",
      "{34, 3, 36, 37, 7, 9, 11, 12, 43, 14, 46, 21, 25, 27, 28, 29, 31}\n",
      "{34, 3, 36, 37, 7, 9, 11, 12, 43, 14, 46, 50, 21, 25, 27, 28, 29, 31}\n",
      "{3, 7, 9, 11, 12, 14, 21, 25, 27, 28, 29, 31, 34, 36, 37, 43, 46, 50, 55}\n",
      "{3, 7, 9, 11, 12, 14, 21, 25, 27, 28, 29, 31, 34, 36, 37, 43, 46, 50, 55, 57}\n",
      "{3, 7, 9, 11, 12, 14, 21, 25, 27, 28, 29, 31, 34, 36, 37, 43, 46, 50, 55, 57, 58}\n",
      "{3, 7, 9, 11, 12, 14, 21, 25, 27, 28, 29, 31, 34, 36, 37, 43, 46, 50, 55, 57, 58, 61}\n",
      "{3, 7, 9, 11, 12, 14, 21, 25, 27, 28, 29, 31, 34, 36, 37, 43, 46, 50, 55, 57, 58, 61, 64}\n",
      "{3, 7, 9, 11, 12, 14, 21, 25, 27, 28, 29, 31, 34, 36, 37, 43, 46, 50, 55, 57, 58, 61, 64, 68}\n",
      "{3, 7, 9, 11, 12, 14, 21, 25, 27, 28, 29, 31, 34, 36, 37, 43, 46, 50, 55, 57, 58, 61, 64, 68, 79}\n",
      "{3, 7, 9, 11, 12, 14, 21, 25, 27, 28, 29, 31, 34, 36, 37, 43, 46, 50, 55, 57, 58, 61, 64, 68, 79, 84}\n",
      "{3, 7, 9, 11, 12, 14, 21, 25, 27, 28, 29, 31, 34, 36, 37, 43, 46, 50, 55, 57, 58, 61, 64, 68, 79, 84, 86}\n",
      "{3, 7, 9, 11, 12, 14, 21, 25, 27, 28, 29, 31, 34, 36, 37, 43, 46, 50, 55, 57, 58, 61, 64, 68, 79, 84, 86, 96}\n",
      "{3, 7, 9, 11, 12, 14, 21, 25, 27, 28, 29, 31, 34, 36, 37, 43, 46, 50, 55, 57, 58, 61, 64, 68, 79, 84, 86, 96, 99}\n"
     ]
    }
   ],
   "source": [
    "# Your code here usando for\n",
    "set3 = set()\n",
    "for x in range(100):\n",
    "    if x in set1 and x not in set2:\n",
    "        set3.add(x)\n",
    "        print(set3)"
   ]
  },
  {
   "cell_type": "code",
   "execution_count": 52,
   "metadata": {},
   "outputs": [
    {
     "name": "stdout",
     "output_type": "stream",
     "text": [
      "{0, 3, 7, 9, 11, 12, 14, 21, 25, 27, 28, 29, 31, 34, 36, 37, 43, 46, 50, 55, 57, 58, 61, 64, 68, 79, 84, 86, 96, 99, 100}\n"
     ]
    }
   ],
   "source": [
    "#Experimento https://www.geeksforgeeks.org/python-set-difference/\n",
    "set3 = set1.difference(set2)\n",
    "print(set3)"
   ]
  },
  {
   "cell_type": "markdown",
   "metadata": {},
   "source": [
    "#### Identify the elements present in `set2` but not in `set1`. Assign the elements to a new set named `set4`."
   ]
  },
  {
   "cell_type": "code",
   "execution_count": 53,
   "metadata": {},
   "outputs": [
    {
     "name": "stdout",
     "output_type": "stream",
     "text": [
      "{4}\n",
      "{4, 5}\n",
      "{13, 4, 5}\n",
      "{16, 13, 4, 5}\n",
      "{4, 5, 13, 16, 23}\n",
      "{4, 5, 13, 16, 23, 56}\n",
      "{4, 5, 69, 13, 16, 23, 56}\n",
      "{4, 5, 69, 75, 13, 16, 23, 56}\n",
      "{4, 5, 69, 75, 13, 16, 80, 23, 56}\n",
      "{4, 5, 69, 75, 13, 16, 80, 87, 23, 56}\n",
      "{4, 5, 69, 75, 13, 16, 80, 87, 23, 56, 88}\n",
      "{4, 5, 69, 75, 13, 16, 80, 87, 23, 56, 88, 92}\n"
     ]
    }
   ],
   "source": [
    "# Your code here usando for\n",
    "set4 = set()\n",
    "for x in range(100):\n",
    "    if x in set2 and x not in set1:\n",
    "        set4.add(x)\n",
    "        print(set4)"
   ]
  },
  {
   "cell_type": "code",
   "execution_count": 54,
   "metadata": {},
   "outputs": [
    {
     "name": "stdout",
     "output_type": "stream",
     "text": [
      "{4, 5, 69, 75, 13, 16, 80, 87, 23, 56, 88, 92}\n"
     ]
    }
   ],
   "source": [
    "#Experimento \n",
    "set4 = set2.difference(set1)\n",
    "print(set4)"
   ]
  },
  {
   "cell_type": "markdown",
   "metadata": {},
   "source": [
    "#### Now Identify the elements shared between `set1` and `set2`. Assign the elements to a new set named `set5`."
   ]
  },
  {
   "cell_type": "code",
   "execution_count": 55,
   "metadata": {},
   "outputs": [
    {
     "name": "stdout",
     "output_type": "stream",
     "text": [
      "{1, 2, 6, 8, 10, 15, 17, 20, 22, 24, 26, 30, 32, 33, 35, 38, 42, 44, 45, 47, 48, 49, 51, 52, 53, 54, 60, 62, 63, 65, 66, 67, 70, 72, 73, 74, 76, 77, 81, 82, 83, 85, 89, 90, 91, 93, 94, 95, 97}\n"
     ]
    }
   ],
   "source": [
    "# Your code here\n",
    "set5 = set1.intersection(set2)\n",
    "print(set5)"
   ]
  },
  {
   "cell_type": "markdown",
   "metadata": {},
   "source": [
    "#### What is the relationship among the following values:\n",
    "\n",
    "* len(set1)\n",
    "* len(set2)\n",
    "* len(set3)\n",
    "* len(set4)\n",
    "* len(set5)\n",
    "\n",
    "Use a math formular to represent that relationship. Test your formular with Python code."
   ]
  },
  {
   "cell_type": "code",
   "execution_count": 56,
   "metadata": {},
   "outputs": [
    {
     "name": "stdout",
     "output_type": "stream",
     "text": [
      "80\n",
      "61\n",
      "31\n",
      "12\n",
      "49\n"
     ]
    }
   ],
   "source": [
    "# Your code here\n",
    "print(len(set1))\n",
    "print(len(set2))\n",
    "print(len(set3))\n",
    "print(len(set4))\n",
    "print(len(set5))"
   ]
  },
  {
   "cell_type": "code",
   "execution_count": 57,
   "metadata": {},
   "outputs": [],
   "source": [
    "#no entiendo lo de la math formular, ¿me la tengo que inventar?"
   ]
  },
  {
   "cell_type": "markdown",
   "metadata": {},
   "source": [
    "#### Create an empty set called `set6`."
   ]
  },
  {
   "cell_type": "code",
   "execution_count": 58,
   "metadata": {},
   "outputs": [],
   "source": [
    "# Your code here\n",
    "set6 = set()"
   ]
  },
  {
   "cell_type": "markdown",
   "metadata": {},
   "source": [
    "#### Add `set3` and `set5` to `set6` using the Python Set `update` method."
   ]
  },
  {
   "cell_type": "code",
   "execution_count": 59,
   "metadata": {},
   "outputs": [
    {
     "name": "stdout",
     "output_type": "stream",
     "text": [
      "{0, 1, 2, 3, 6, 7, 8, 9, 10, 11, 12, 14, 15, 17, 20, 21, 22, 24, 25, 26, 27, 28, 29, 30, 31, 32, 33, 34, 35, 36, 37, 38, 42, 43, 44, 45, 46, 47, 48, 49, 50, 51, 52, 53, 54, 55, 57, 58, 60, 61, 62, 63, 64, 65, 66, 67, 68, 70, 72, 73, 74, 76, 77, 79, 81, 82, 83, 84, 85, 86, 89, 90, 91, 93, 94, 95, 96, 97, 99, 100}\n"
     ]
    }
   ],
   "source": [
    "# Your code here\n",
    "set6.update(set3)\n",
    "set6.update(set5)\n",
    "print(set6)"
   ]
  },
  {
   "cell_type": "markdown",
   "metadata": {},
   "source": [
    "#### Check if `set1` and `set6` are equal."
   ]
  },
  {
   "cell_type": "code",
   "execution_count": 60,
   "metadata": {},
   "outputs": [
    {
     "data": {
      "text/plain": [
       "True"
      ]
     },
     "execution_count": 60,
     "metadata": {},
     "output_type": "execute_result"
    }
   ],
   "source": [
    "# Your code here\n",
    "set1 == set6"
   ]
  },
  {
   "cell_type": "markdown",
   "metadata": {},
   "source": [
    "#### Check if `set1` contains `set2` using the Python Set `issubset` method. Then check if `set1` contains `set3`.*"
   ]
  },
  {
   "cell_type": "code",
   "execution_count": 61,
   "metadata": {},
   "outputs": [
    {
     "data": {
      "text/plain": [
       "True"
      ]
     },
     "execution_count": 61,
     "metadata": {},
     "output_type": "execute_result"
    }
   ],
   "source": [
    "# Your code here\n",
    "set2.issubset(set1)"
   ]
  },
  {
   "cell_type": "code",
   "execution_count": 65,
   "metadata": {},
   "outputs": [
    {
     "data": {
      "text/plain": [
       "False"
      ]
     },
     "execution_count": 65,
     "metadata": {},
     "output_type": "execute_result"
    }
   ],
   "source": [
    "set3.issubset(set1)"
   ]
  },
  {
   "cell_type": "markdown",
   "metadata": {},
   "source": [
    "#### Using the Python Set `union` method, aggregate `set3`, `set4`, and `set5`. Then aggregate `set1` and `set2`. \n",
    "\n",
    "#### Check if the aggregated values are equal."
   ]
  },
  {
   "cell_type": "code",
   "execution_count": 62,
   "metadata": {},
   "outputs": [],
   "source": [
    "# Your code here\n",
    "aggregate1 = set3.union(set4, set5)\n",
    "aggregate2 = set1.union(set2)"
   ]
  },
  {
   "cell_type": "code",
   "execution_count": 63,
   "metadata": {},
   "outputs": [
    {
     "data": {
      "text/plain": [
       "True"
      ]
     },
     "execution_count": 63,
     "metadata": {},
     "output_type": "execute_result"
    }
   ],
   "source": [
    "#Comprobación\n",
    "aggregate1 == aggregate2"
   ]
  },
  {
   "cell_type": "markdown",
   "metadata": {},
   "source": [
    "#### Using the `pop` method, remove the first element from `set1`."
   ]
  },
  {
   "cell_type": "code",
   "execution_count": 64,
   "metadata": {},
   "outputs": [
    {
     "name": "stdout",
     "output_type": "stream",
     "text": [
      "{1, 2, 3, 6, 7, 8, 9, 10, 11, 12, 14, 15, 17, 20, 21, 22, 24, 25, 26, 27, 28, 29, 30, 31, 32, 33, 34, 35, 36, 37, 38, 42, 43, 44, 45, 46, 47, 48, 49, 50, 51, 52, 53, 54, 55, 57, 58, 60, 61, 62, 63, 64, 65, 66, 67, 68, 70, 72, 73, 74, 76, 77, 79, 81, 82, 83, 84, 85, 86, 89, 90, 91, 93, 94, 95, 96, 97, 99, 100}\n"
     ]
    },
    {
     "data": {
      "text/plain": [
       "79"
      ]
     },
     "execution_count": 64,
     "metadata": {},
     "output_type": "execute_result"
    }
   ],
   "source": [
    "# Your code here\n",
    "#pop se utiliza para eliminar \n",
    "set1.pop()\n",
    "print(set1)\n",
    "len(set1)#Para comprobar que se han eliminado"
   ]
  },
  {
   "cell_type": "markdown",
   "metadata": {},
   "source": [
    "#### Remove every element in the following list from `set1` if they are present in the set. Print the remaining elements.\n",
    "\n",
    "```\n",
    "list_to_remove = [1, 9, 11, 19, 21, 29, 31, 39, 41, 49, 51, 59, 61, 69, 71, 79, 81, 89, 91, 99]\n",
    "```"
   ]
  },
  {
   "cell_type": "code",
   "execution_count": 38,
   "metadata": {},
   "outputs": [
    {
     "name": "stdout",
     "output_type": "stream",
     "text": [
      "{0, 2, 3, 4, 7, 8, 12, 13, 14, 15, 17, 18, 20, 22, 23, 24, 25, 26, 27, 28, 30, 32, 33, 34, 35, 36, 38, 40, 42, 43, 44, 45, 47, 48, 50, 53, 54, 55, 60, 63, 66, 67, 70, 72, 73, 74, 76, 77, 78, 80, 82, 83, 85, 86, 87, 88, 90, 92, 94, 96, 97, 98, 100}\n",
      "63\n"
     ]
    }
   ],
   "source": [
    "# Your code here\n",
    "list_to_remove = [1, 9, 11, 19, 21, 29, 31, 39, 41, 49, 51, 59, 61, 69, 71, 79, 81, 89, 91, 99]\n",
    "for x in list_to_remove:\n",
    "    if x in set1:\n",
    "        set1.remove(x)\n",
    "print(set1)\n",
    "print(len(set1))#Para comprobar que se han eliminado"
   ]
  },
  {
   "cell_type": "code",
   "execution_count": null,
   "metadata": {},
   "outputs": [],
   "source": []
  }
 ],
 "metadata": {
  "kernelspec": {
   "display_name": "Python 3",
   "language": "python",
   "name": "python3"
  },
  "language_info": {
   "codemirror_mode": {
    "name": "ipython",
    "version": 3
   },
   "file_extension": ".py",
   "mimetype": "text/x-python",
   "name": "python",
   "nbconvert_exporter": "python",
   "pygments_lexer": "ipython3",
   "version": "3.9.5"
  }
 },
 "nbformat": 4,
 "nbformat_minor": 2
}
