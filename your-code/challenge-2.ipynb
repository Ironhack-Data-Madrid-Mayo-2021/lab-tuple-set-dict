{
 "cells": [
  {
   "cell_type": "markdown",
   "metadata": {},
   "source": [
    "## Challenge 2: Sets\n",
    "\n",
    "There are a lot to learn about Python Sets and the information presented in the lesson is limited due to its length. To learn Python Sets in depth you are strongly encouraged to review the W3Schools tutorial on [Python Sets Examples and Methods](https://www.w3schools.com/python/python_sets.asp) before you work on this lab. Some difficult questions in this lab have their solutions in the W3Schools tutorial.\n",
    "\n",
    "#### First, import the Python `random` libary"
   ]
  },
  {
   "cell_type": "code",
   "execution_count": 22,
   "metadata": {},
   "outputs": [],
   "source": [
    "import random"
   ]
  },
  {
   "cell_type": "markdown",
   "metadata": {},
   "source": [
    "#### In the cell below, create a list named `sample_list_1` with 80 random values. \n",
    "\n",
    "Requirements:\n",
    "\n",
    "* Each value is an integer falling between 0 and 100.\n",
    "* Each value in the list is unique.\n",
    "\n",
    "Print `sample_list_1` to review its values\n",
    "\n",
    "*Hint: use `random.sample` ([reference](https://docs.python.org/3/library/random.html#random.sample)).*"
   ]
  },
  {
   "cell_type": "code",
   "execution_count": 73,
   "metadata": {},
   "outputs": [
    {
     "name": "stdout",
     "output_type": "stream",
     "text": [
      "[80, 100, 27, 37, 24, 17, 99, 63, 62, 12, 7, 91, 61, 69, 78, 85, 84, 25, 65, 98, 41, 93, 19, 55, 32, 73, 14, 1, 34, 0, 49, 11, 75, 71, 92, 21, 23, 56, 29, 82, 2, 97, 94, 54, 47, 96, 39, 79, 74, 67, 36, 35, 18, 10, 8, 30, 83, 38, 87, 88, 6, 4, 90, 95, 13, 3, 77, 22, 15, 66, 48, 28, 42, 86, 51, 46, 43, 45, 64, 26]\n"
     ]
    },
    {
     "data": {
      "text/plain": [
       "80"
      ]
     },
     "execution_count": 73,
     "metadata": {},
     "output_type": "execute_result"
    }
   ],
   "source": [
    "# Problem solved without using random.sample.\n",
    "# I missed that hint completely :D\n",
    "\n",
    "\"\"\"\n",
    "i = 0\n",
    "\n",
    "while i < 80:\n",
    "    number_random = int(random.uniform(0,100))\n",
    "    if number_random not in sample_list_1:\n",
    "        sample_list_1.append(number_random)\n",
    "        i += 1\n",
    "\"\"\"\n",
    "\n",
    "sample_list_1 = random.sample(range(101),80)\n",
    "\n",
    "type(sample_list_1)\n",
    "\n",
    "print(sample_list_1)\n",
    "\n",
    "len(sample_list_1)"
   ]
  },
  {
   "cell_type": "markdown",
   "metadata": {},
   "source": [
    "#### Convert `sample_list_1` to a set called `set1`. Print the length of the set. Is its length still 80?"
   ]
  },
  {
   "cell_type": "code",
   "execution_count": 160,
   "metadata": {},
   "outputs": [
    {
     "data": {
      "text/plain": [
       "set"
      ]
     },
     "execution_count": 160,
     "metadata": {},
     "output_type": "execute_result"
    }
   ],
   "source": [
    "set1 = set(sample_list_1)\n",
    "\n",
    "type(set1)\n"
   ]
  },
  {
   "cell_type": "markdown",
   "metadata": {},
   "source": [
    "#### Create another list named `sample_list_2` with 80 random values.\n",
    "\n",
    "Requirements:\n",
    "\n",
    "* Each value is an integer falling between 0 and 100.\n",
    "* The values in the list don't have to be unique.\n",
    "\n",
    "*Hint: Use a FOR loop.*"
   ]
  },
  {
   "cell_type": "code",
   "execution_count": 70,
   "metadata": {},
   "outputs": [
    {
     "name": "stdout",
     "output_type": "stream",
     "text": [
      "[66, 52, 27, 41, 29, 32, 63, 7, 41, 66, 16, 26, 15, 83, 80, 45, 81, 83, 43, 95, 16, 80, 9, 2, 7, 19, 29, 53, 46, 37, 79, 27, 11, 90, 91, 9, 34, 53, 58, 6, 18, 30, 72, 96, 7, 21, 44, 44, 97, 32, 48, 87, 43, 24, 74, 45, 41, 73, 95, 17, 92, 32, 11, 7, 36, 81, 53, 56, 32, 8, 6, 18, 38, 47, 24, 73, 74, 80, 80, 75]\n"
     ]
    },
    {
     "data": {
      "text/plain": [
       "80"
      ]
     },
     "execution_count": 70,
     "metadata": {},
     "output_type": "execute_result"
    }
   ],
   "source": [
    "sample_list_2 = []\n",
    "\n",
    "for number in range(80):\n",
    "    sample_list_2.append(int(random.uniform(1,100)))\n",
    "\n",
    "print(sample_list_2)\n",
    "\n",
    "len(sample_list_2)"
   ]
  },
  {
   "cell_type": "markdown",
   "metadata": {},
   "source": [
    "#### Convert `sample_list_2` to a set called `set2`. Print the length of the set. Is its length still 80?"
   ]
  },
  {
   "cell_type": "code",
   "execution_count": 71,
   "metadata": {},
   "outputs": [
    {
     "data": {
      "text/plain": [
       "50"
      ]
     },
     "execution_count": 71,
     "metadata": {},
     "output_type": "execute_result"
    }
   ],
   "source": [
    "set2 = set(sample_list_2)\n",
    "\n",
    "len(set2)\n",
    "\n",
    "# No, the lenght change because all the values in the sample_list_2 weren't unique.\n",
    "# When we transformed it to set only remains unique values."
   ]
  },
  {
   "cell_type": "markdown",
   "metadata": {},
   "source": [
    "#### Identify the elements present in `set1` but not in `set2`. Assign the elements to a new set named `set3`."
   ]
  },
  {
   "cell_type": "code",
   "execution_count": 95,
   "metadata": {},
   "outputs": [
    {
     "name": "stdout",
     "output_type": "stream",
     "text": [
      "{0, 1, 3, 4, 10, 12, 13, 14, 22, 23, 25, 28, 35, 39, 42, 49, 51, 54, 55, 61, 62, 64, 65, 67, 69, 71, 77, 78, 82, 84, 85, 86, 88, 93, 94, 98, 99, 100}\n"
     ]
    },
    {
     "data": {
      "text/plain": [
       "'\\nfor element in set1:\\n    if element not in set2:\\n        set10.add(element)\\n\\n'"
      ]
     },
     "execution_count": 95,
     "metadata": {},
     "output_type": "execute_result"
    }
   ],
   "source": [
    "set3 = set()\n",
    "\n",
    "# new way to declare an empty set.\n",
    "\n",
    "set3 = set1.difference(set2)\n",
    "\n",
    "print(set3)\n",
    "\n",
    "# Another solution without using difference\n",
    "\n",
    "# set10 = set()\n",
    "\n",
    "#for element in set1:\n",
    "#    if element not in set2:\n",
    "#        set10.add(element)\n",
    "\n",
    "# print(set10)"
   ]
  },
  {
   "cell_type": "markdown",
   "metadata": {},
   "source": [
    "#### Identify the elements present in `set2` but not in `set1`. Assign the elements to a new set named `set4`."
   ]
  },
  {
   "cell_type": "code",
   "execution_count": 99,
   "metadata": {},
   "outputs": [
    {
     "name": "stdout",
     "output_type": "stream",
     "text": [
      "{72, 9, 44, 16, 81, 52, 53, 58}\n"
     ]
    }
   ],
   "source": [
    "set4 = set()\n",
    "\n",
    "set4 = set2.difference(set1)\n",
    "\n",
    "# new way to declare an empty set.\n",
    "\n",
    "\n",
    "#for element in set2:\n",
    "#    if element not in set1:\n",
    "#        set4.add(element)\n",
    "\n",
    "print(set4)"
   ]
  },
  {
   "cell_type": "markdown",
   "metadata": {},
   "source": [
    "#### Now Identify the elements shared between `set1` and `set2`. Assign the elements to a new set named `set5`."
   ]
  },
  {
   "cell_type": "code",
   "execution_count": 97,
   "metadata": {},
   "outputs": [
    {
     "name": "stdout",
     "output_type": "stream",
     "text": [
      "{2, 6, 7, 8, 11, 15, 17, 18, 19, 21, 24, 26, 27, 29, 30, 32, 34, 36, 37, 38, 41, 43, 45, 46, 47, 48, 56, 63, 66, 73, 74, 75, 79, 80, 83, 87, 90, 91, 92, 95, 96, 97}\n"
     ]
    }
   ],
   "source": [
    "set5 = set1.intersection(set2)\n",
    "\n",
    "print(set5)"
   ]
  },
  {
   "cell_type": "markdown",
   "metadata": {},
   "source": [
    "#### What is the relationship among the following values:\n",
    "\n",
    "* len(set1)\n",
    "* len(set2)\n",
    "* len(set3)\n",
    "* len(set4)\n",
    "* len(set5)\n",
    "\n",
    "Use a math formular to represent that relationship. Test your formular with Python code."
   ]
  },
  {
   "cell_type": "markdown",
   "metadata": {},
   "source": [
    "**Relaciones matematica:**\n",
    "\n",
    "- len(set1) > len(set2) -> ya que set1 es un set creado de número no repetido y set 2 si es un set creado de número repetidos.\n",
    "- A su vez tanto len(set1) como len(set2) deberían ser mayores que len(set3), len(set4) y len(set5), ya que los 3 sets son parte de ambos set.\n",
    "- Como última comparativa, podremos averigua si la intersección es mayor que los elementos que no estan comprendidos en los sets.\n",
    "\n",
    "\n"
   ]
  },
  {
   "cell_type": "code",
   "execution_count": 121,
   "metadata": {},
   "outputs": [
    {
     "name": "stdout",
     "output_type": "stream",
     "text": [
      "80 50 38 8 42\n",
      "set3 = elementos de set1 no presentes en set2\n",
      "set4 = elementos de set2 no presentes en set1\n",
      "set5 = intersección entre set1 y set2\n",
      "len(set1) es mayor que len(set2): True\n",
      "len(set1) y len(set2) son mayores que len len(set3): True\n",
      "len(set1) y len(set2) son mayores que len len(set4): True\n",
      "len(set1) y len(set2) son mayores que len len(set5): True\n",
      "Los elementos de la interesección de set1 y set2 son mayores que la cantidad de elementos de set1 NO presentes en set2.\n",
      "Los elementos de la interesección de set1 y set2 son mayores que la cantidad de elementos de set2 NO presentes en set1.\n"
     ]
    }
   ],
   "source": [
    "print(len(set1),len(set2),len(set3),len(set4),len(set5))\n",
    "\n",
    "print(\"set3 = elementos de set1 no presentes en set2\")\n",
    "print(\"set4 = elementos de set2 no presentes en set1\")\n",
    "print(\"set5 = intersección entre set1 y set2\")\n",
    "\n",
    "print(\"len(set1) es mayor que len(set2):\", len(set1) > len(set2))\n",
    "print(\"len(set1) y len(set2) son mayores que len len(set3):\", len(set1) > len(set3) and len(set2) > len(set3))\n",
    "print(\"len(set1) y len(set2) son mayores que len len(set4):\", len(set1) > len(set4) and len(set2) > len(set4))\n",
    "print(\"len(set1) y len(set2) son mayores que len len(set5):\", len(set1) > len(set5) and len(set2) > len(set5))\n",
    "\n",
    "if len(set5) > len(set3):\n",
    "    print(\"Los elementos de la interesección de set1 y set2 son mayores que la cantidad de elementos de set1 NO presentes en set2.\")\n",
    "\n",
    "if len(set5) > len(set4):\n",
    "    print(\"Los elementos de la interesección de set1 y set2 son mayores que la cantidad de elementos de set2 NO presentes en set1.\")"
   ]
  },
  {
   "cell_type": "markdown",
   "metadata": {},
   "source": [
    "#### Create an empty set called `set6`."
   ]
  },
  {
   "cell_type": "code",
   "execution_count": 105,
   "metadata": {},
   "outputs": [
    {
     "data": {
      "text/plain": [
       "set"
      ]
     },
     "execution_count": 105,
     "metadata": {},
     "output_type": "execute_result"
    }
   ],
   "source": [
    "set6 = set()\n",
    "\n",
    "type(set6)"
   ]
  },
  {
   "cell_type": "markdown",
   "metadata": {},
   "source": [
    "#### Add `set3` and `set5` to `set6` using the Python Set `update` method."
   ]
  },
  {
   "cell_type": "code",
   "execution_count": 126,
   "metadata": {},
   "outputs": [
    {
     "name": "stdout",
     "output_type": "stream",
     "text": [
      "{0, 1, 2, 3, 4, 6, 7, 8, 10, 11, 12, 13, 14, 15, 17, 18, 19, 21, 22, 23, 24, 25, 26, 27, 28, 29, 30, 32, 34, 35, 36, 37, 38, 39, 41, 42, 43, 45, 46, 47, 48, 49, 51, 54, 55, 56, 61, 62, 63, 64, 65, 66, 67, 69, 71, 73, 74, 75, 77, 78, 79, 80, 82, 83, 84, 85, 86, 87, 88, 90, 91, 92, 93, 94, 95, 96, 97, 98, 99, 100}\n"
     ]
    }
   ],
   "source": [
    "set6 = set()\n",
    "\n",
    "set6.update(set3, set5)\n",
    "\n",
    "print(set6)"
   ]
  },
  {
   "cell_type": "markdown",
   "metadata": {},
   "source": [
    "#### Check if `set1` and `set6` are equal."
   ]
  },
  {
   "cell_type": "code",
   "execution_count": 127,
   "metadata": {},
   "outputs": [
    {
     "data": {
      "text/plain": [
       "True"
      ]
     },
     "execution_count": 127,
     "metadata": {},
     "output_type": "execute_result"
    }
   ],
   "source": [
    "set1 == set6\n"
   ]
  },
  {
   "cell_type": "markdown",
   "metadata": {},
   "source": [
    "#### Check if `set1` contains `set2` using the Python Set `issubset` method. Then check if `set1` contains `set3`.*"
   ]
  },
  {
   "cell_type": "code",
   "execution_count": 130,
   "metadata": {},
   "outputs": [
    {
     "name": "stdout",
     "output_type": "stream",
     "text": [
      "False\n",
      "True\n"
     ]
    }
   ],
   "source": [
    "print(set2.issubset(set1))\n",
    "\n",
    "print(set3.issubset(set1))"
   ]
  },
  {
   "cell_type": "markdown",
   "metadata": {},
   "source": [
    "#### Using the Python Set `union` method, aggregate `set3`, `set4`, and `set5`. Then aggregate `set1` and `set2`. \n",
    "\n",
    "#### Check if the aggregated values are equal."
   ]
  },
  {
   "cell_type": "code",
   "execution_count": 132,
   "metadata": {},
   "outputs": [
    {
     "data": {
      "text/plain": [
       "True"
      ]
     },
     "execution_count": 132,
     "metadata": {},
     "output_type": "execute_result"
    }
   ],
   "source": [
    "set3.union(set4,set5) == set1.union(set2)\n"
   ]
  },
  {
   "cell_type": "markdown",
   "metadata": {},
   "source": [
    "#### Using the `pop` method, remove the first element from `set1`."
   ]
  },
  {
   "cell_type": "code",
   "execution_count": 144,
   "metadata": {},
   "outputs": [
    {
     "name": "stdout",
     "output_type": "stream",
     "text": [
      "[1, 2, 4]\n"
     ]
    }
   ],
   "source": [
    "# tryin pop function with list\n",
    "\n",
    "list = [0, 1, 2, 4]\n",
    "\n",
    "list.pop(0)\n",
    "\n",
    "print(list)"
   ]
  },
  {
   "cell_type": "code",
   "execution_count": 163,
   "metadata": {},
   "outputs": [
    {
     "name": "stdout",
     "output_type": "stream",
     "text": [
      "{0, 1, 2, 3, 4, 6, 7, 8, 10, 11, 12, 13, 14, 15, 17, 18, 19, 21, 22, 23, 24, 25, 26, 27, 28, 29, 30, 32, 34, 35, 36, 37, 38, 39, 41, 42, 43, 45, 46, 47, 48, 49, 51, 54, 55, 56, 61, 62, 63, 64, 65, 66, 67, 69, 71, 73, 74, 75, 77, 78, 79, 80, 82, 83, 84, 85, 86, 87, 88, 90, 91, 92, 93, 94, 95, 96, 97, 98, 99, 100}\n",
      "<class 'set'>\n",
      "{1, 2, 3, 4, 6, 7, 8, 10, 11, 12, 13, 14, 15, 17, 18, 19, 21, 22, 23, 24, 25, 26, 27, 28, 29, 30, 32, 34, 35, 36, 37, 38, 39, 41, 42, 43, 45, 46, 47, 48, 49, 51, 54, 55, 56, 61, 62, 63, 64, 65, 66, 67, 69, 71, 73, 74, 75, 77, 78, 79, 80, 82, 83, 84, 85, 86, 87, 88, 90, 91, 92, 93, 94, 95, 96, 97, 98, 99, 100}\n"
     ]
    }
   ],
   "source": [
    "print(set1)\n",
    "print(type(set1))\n",
    "\n",
    "set1.pop()\n",
    "\n",
    "print(set1)"
   ]
  },
  {
   "cell_type": "markdown",
   "metadata": {},
   "source": [
    "#### Remove every element in the following list from `set1` if they are present in the set. Print the remaining elements.\n",
    "\n",
    "```\n",
    "list_to_remove = [1, 9, 11, 19, 21, 29, 31, 39, 41, 49, 51, 59, 61, 69, 71, 79, 81, 89, 91, 99]\n",
    "```"
   ]
  },
  {
   "cell_type": "code",
   "execution_count": 155,
   "metadata": {},
   "outputs": [
    {
     "name": "stdout",
     "output_type": "stream",
     "text": [
      "{0, 1, 2, 3, 4, 6, 7, 8, 10, 11, 12, 13, 14, 15, 17, 18, 19, 21, 22, 23, 24, 25, 26, 27, 28, 29, 30, 32, 34, 35, 36, 37, 38, 39, 41, 42, 43, 45, 46, 47, 48, 49, 51, 54, 55, 56, 61, 62, 63, 64, 65, 66, 67, 69, 71, 73, 74, 75, 77, 78, 79, 80, 82, 83, 84, 85, 86, 87, 88, 90, 91, 92, 93, 94, 95, 96, 97, 98, 99, 100}\n",
      "[1, 9, 11, 19, 21, 29, 31, 39, 41, 49, 51, 59, 61, 69, 71, 79, 81, 89, 91, 99]\n",
      "Remaining elements: [9, 31, 59, 81, 89]\n"
     ]
    }
   ],
   "source": [
    "list_to_remove = [1, 9, 11, 19, 21, 29, 31, 39, 41, 49, 51, 59, 61, 69, 71, 79, 81, 89, 91, 99]\n",
    "\n",
    "print(set1)\n",
    "print(list_to_remove)\n",
    "\n",
    "for number in set1:\n",
    "    if number in list_to_remove:\n",
    "        list_to_remove.pop(list_to_remove.index(number))\n",
    "        \n",
    "print(\"Remaining elements:\",list_to_remove)"
   ]
  },
  {
   "cell_type": "code",
   "execution_count": null,
   "metadata": {},
   "outputs": [],
   "source": []
  }
 ],
 "metadata": {
  "kernelspec": {
   "display_name": "Python 3",
   "language": "python",
   "name": "python3"
  },
  "language_info": {
   "codemirror_mode": {
    "name": "ipython",
    "version": 3
   },
   "file_extension": ".py",
   "mimetype": "text/x-python",
   "name": "python",
   "nbconvert_exporter": "python",
   "pygments_lexer": "ipython3",
   "version": "3.8.5"
  }
 },
 "nbformat": 4,
 "nbformat_minor": 2
}
